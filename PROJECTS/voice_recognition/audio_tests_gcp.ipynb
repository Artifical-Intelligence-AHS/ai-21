{
 "cells": [
  {
   "cell_type": "code",
   "execution_count": 18,
   "metadata": {},
   "outputs": [],
   "source": [
    "speech_file = '/Users/kunal/Documents/AI-21/ai-21/PROJECTS/voice_recognition/audioFiles/3.wav'"
   ]
  },
  {
   "cell_type": "code",
   "execution_count": 19,
   "metadata": {},
   "outputs": [],
   "source": [
    "import json\n",
    "from google.oauth2 import service_account\n",
    "from google.cloud import speech\n",
    "import io\n",
    "\n",
    "key_path = '/Users/kunal/Documents/AI-21/keys/voice-recognition-key.json'\n",
    "\n",
    "with open(key_path, 'r') as j:\n",
    "    service_account_info = json.loads(j.read())"
   ]
  },
  {
   "cell_type": "code",
   "execution_count": 20,
   "metadata": {},
   "outputs": [],
   "source": [
    "credentials = service_account.Credentials.from_service_account_info(service_account_info)\n",
    "client = speech.SpeechClient(credentials=credentials)"
   ]
  },
  {
   "cell_type": "code",
   "execution_count": 21,
   "metadata": {},
   "outputs": [
    {
     "name": "stdout",
     "output_type": "stream",
     "text": [
      "Transcript: Sphinx Bink Sphinx Bink Bink Sphinx Bink Sphinx Bink Sphinx\n",
      "Transcript:  thanks\n"
     ]
    }
   ],
   "source": [
    "\n",
    "\n",
    "#client = speech.SpeechClient()\n",
    "\n",
    "with io.open(speech_file, \"rb\") as audio_file:\n",
    "    content = audio_file.read()\n",
    "\n",
    "audio = speech.RecognitionAudio(content=content)\n",
    "config = speech.RecognitionConfig(\n",
    "    encoding=speech.RecognitionConfig.AudioEncoding.LINEAR16,\n",
    "    language_code=\"en-US\",\n",
    "    sample_rate_hertz=8000,\n",
    ")\n",
    "\n",
    "response = client.recognize(config=config, audio=audio)\n",
    "\n",
    "# Each result is for a consecutive portion of the audio. Iterate through\n",
    "# them to get the transcripts for the entire audio file.\n",
    "for result in response.results:\n",
    "    # The first alternative is the most likely one for this portion.\n",
    "    print(u\"Transcript: {}\".format(result.alternatives[0].transcript))\n"
   ]
  },
  {
   "cell_type": "code",
   "execution_count": null,
   "metadata": {},
   "outputs": [],
   "source": []
  },
  {
   "cell_type": "code",
   "execution_count": null,
   "metadata": {},
   "outputs": [],
   "source": []
  }
 ],
 "metadata": {
  "interpreter": {
   "hash": "b1b019a133bcce338183636fba458ad1bcd86ba34043dcd5f7ae5d78d3b60323"
  },
  "kernelspec": {
   "display_name": "Python 3.8.6 64-bit",
   "language": "python",
   "name": "python3"
  },
  "language_info": {
   "codemirror_mode": {
    "name": "ipython",
    "version": 3
   },
   "file_extension": ".py",
   "mimetype": "text/x-python",
   "name": "python",
   "nbconvert_exporter": "python",
   "pygments_lexer": "ipython3",
   "version": "3.8.6"
  },
  "orig_nbformat": 4
 },
 "nbformat": 4,
 "nbformat_minor": 2
}
