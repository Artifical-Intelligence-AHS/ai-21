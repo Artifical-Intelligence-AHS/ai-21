{
 "cells": [
  {
   "cell_type": "markdown",
   "metadata": {},
   "source": [
    "Libaries Install:\n",
    "\n",
    "`pip install matplotlib==3.3.2`\n",
    "\n",
    "`pip install scipy==1.4.1`\n"
   ]
  },
  {
   "cell_type": "code",
   "execution_count": 4,
   "metadata": {},
   "outputs": [],
   "source": [
    "# import the libraries\n",
    "import matplotlib.pyplot as plt\n",
    "from scipy.io import wavfile"
   ]
  },
  {
   "cell_type": "code",
   "execution_count": 5,
   "metadata": {},
   "outputs": [
    {
     "name": "stdout",
     "output_type": "stream",
     "text": [
      "Running Path, use this to set your file path\n",
      "c:\\Users\\kunal\\Documents\\AI-21\\ai-21\\PROJECTS\\voice_recognition\n"
     ]
    }
   ],
   "source": [
    "print(\"Running Path, use this to set your file path\")\n",
    "print(os.getcwd())"
   ]
  },
  {
   "cell_type": "code",
   "execution_count": 9,
   "metadata": {},
   "outputs": [
    {
     "name": "stdout",
     "output_type": "stream",
     "text": [
      "Sampling Frequency: 8000\n",
      "Signal Data: [   0    0    0 ...  -21 -222  -35]\n"
     ]
    }
   ],
   "source": [
    "local_file_path = './audioFiles/3.wav'\n",
    "\n",
    "# Read the wav file (mono)\n",
    "samplingFrequency, signalData = wavfile.read(local_file_path)\n",
    "print(\"Sampling Frequency: {}\".format(samplingFrequency))\n",
    "print(\"Signal Data: {}\".format(signalData))"
   ]
  },
  {
   "cell_type": "markdown",
   "metadata": {},
   "source": [
    "Now that we see that the signal data is in a ___ format. We can see how we can manipulate it to measure the variance.\n",
    "\n",
    "Since we can't print it, lets see how long it is"
   ]
  },
  {
   "cell_type": "code",
   "execution_count": 10,
   "metadata": {},
   "outputs": [
    {
     "name": "stdout",
     "output_type": "stream",
     "text": [
      "128448\n"
     ]
    }
   ],
   "source": [
    "print(len(signalData))\n",
    "# What does this mean?"
   ]
  },
  {
   "cell_type": "code",
   "execution_count": 13,
   "metadata": {},
   "outputs": [
    {
     "name": "stdout",
     "output_type": "stream",
     "text": [
      "Signal Data for 35550 : -559\n"
     ]
    }
   ],
   "source": [
    "positionValue = 35550\n",
    "print(\"Signal Data for {} : {}\".format(positionValue, signalData[positionValue]))"
   ]
  },
  {
   "cell_type": "code",
   "execution_count": 14,
   "metadata": {},
   "outputs": [
    {
     "name": "stdout",
     "output_type": "stream",
     "text": [
      "Average: 0.03585886895864474\n"
     ]
    }
   ],
   "source": [
    "# Creating a threshold\n",
    "\n",
    "# Average of the signal\n",
    "average = sum(signalData) / len(signalData)\n",
    "print(\"Average: {}\".format(average))"
   ]
  },
  {
   "cell_type": "code",
   "execution_count": 16,
   "metadata": {},
   "outputs": [
    {
     "name": "stdout",
     "output_type": "stream",
     "text": [
      "Average Non Zero: 0.036234905400621485\n"
     ]
    }
   ],
   "source": [
    "totalSumNonZero = 0\n",
    "ct = 0\n",
    "for num in signalData:\n",
    "    if num != 0:\n",
    "        totalSumNonZero+=num\n",
    "        ct+=1\n",
    "averageNonZero = totalSumNonZero / ct\n",
    "print(\"Average Non Zero: {}\".format(averageNonZero))"
   ]
  },
  {
   "cell_type": "code",
   "execution_count": 18,
   "metadata": {},
   "outputs": [
    {
     "name": "stdout",
     "output_type": "stream",
     "text": [
      "Average Non Zero: 777.5411818099301\n"
     ]
    }
   ],
   "source": [
    "totalSumNonZero = 0\n",
    "ct = 0\n",
    "for num in signalData:\n",
    "    if num > 10:\n",
    "        totalSumNonZero+=num\n",
    "        ct+=1\n",
    "averageNonZero = totalSumNonZero / ct\n",
    "print(\"Average Non Zero: {}\".format(averageNonZero))"
   ]
  },
  {
   "cell_type": "code",
   "execution_count": null,
   "metadata": {},
   "outputs": [],
   "source": []
  }
 ],
 "metadata": {
  "interpreter": {
   "hash": "b1b019a133bcce338183636fba458ad1bcd86ba34043dcd5f7ae5d78d3b60323"
  },
  "kernelspec": {
   "display_name": "Python 3.8.6 64-bit",
   "language": "python",
   "name": "python3"
  },
  "language_info": {
   "codemirror_mode": {
    "name": "ipython",
    "version": 3
   },
   "file_extension": ".py",
   "mimetype": "text/x-python",
   "name": "python",
   "nbconvert_exporter": "python",
   "pygments_lexer": "ipython3",
   "version": "3.8.6"
  },
  "orig_nbformat": 4
 },
 "nbformat": 4,
 "nbformat_minor": 2
}
