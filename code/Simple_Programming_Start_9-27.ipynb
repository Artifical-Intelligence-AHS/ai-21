{
  "nbformat": 4,
  "nbformat_minor": 0,
  "metadata": {
    "colab": {
      "name": "Simple Programming Start.ipynb",
      "provenance": [],
      "collapsed_sections": []
    },
    "kernelspec": {
      "display_name": "Python 3",
      "name": "python3"
    }
  },
  "cells": [
    {
      "cell_type": "markdown",
      "metadata": {
        "id": "q254vkNjGHMJ"
      },
      "source": [
        "# Crash Course in Python\n",
        "\n",
        "Artifial Intelligence Club\n",
        "\n",
        "This will give you a overview of simple python programming and how to write code\n",
        "\n",
        "Estimated Scdeual\n",
        "- Crash Course in Python\n",
        "- Images and how to process them\n",
        "- Running a image processing program\n",
        "- Building your facial recongition model using cascade\n",
        "\n"
      ]
    },
    {
      "cell_type": "code",
      "metadata": {
        "id": "Q62kXEKIGGuH",
        "colab": {
          "base_uri": "https://localhost:8080/"
        },
        "outputId": "f83f5004-51c1-44f2-90d5-67b51d5e2b0f"
      },
      "source": [
        "# This is comment it starts with a \"#\"\n",
        "print(\"This is a cell block 1\")"
      ],
      "execution_count": null,
      "outputs": [
        {
          "output_type": "stream",
          "name": "stdout",
          "text": [
            "This is a cell block 1\n"
          ]
        }
      ]
    },
    {
      "cell_type": "code",
      "metadata": {
        "id": "Qgl9sfnIGoSq",
        "colab": {
          "base_uri": "https://localhost:8080/"
        },
        "outputId": "7d1ffa1c-19c2-4dbd-b322-92d11f1f056c"
      },
      "source": [
        "print(\"This is a cell block 2\")"
      ],
      "execution_count": null,
      "outputs": [
        {
          "output_type": "stream",
          "name": "stdout",
          "text": [
            "This is a cell block 2\n"
          ]
        }
      ]
    },
    {
      "cell_type": "code",
      "metadata": {
        "id": "pqSe8y3OGrPg",
        "colab": {
          "base_uri": "https://localhost:8080/"
        },
        "outputId": "2489b7a5-bc90-4e5d-a842-092d4675f8c2"
      },
      "source": [
        "print(\"Each cell block is run differently using the play button on the left\")\n",
        "print(\"But all different parts of within the cell is able to run\")\n",
        "example = \"This is an example variable string\""
      ],
      "execution_count": null,
      "outputs": [
        {
          "output_type": "stream",
          "name": "stdout",
          "text": [
            "Each cell block is run differently using the play button on the left\n",
            "But all different parts of within the cell is able to run\n"
          ]
        }
      ]
    },
    {
      "cell_type": "code",
      "metadata": {
        "id": "-tn2RjakG3XA",
        "colab": {
          "base_uri": "https://localhost:8080/"
        },
        "outputId": "0d7604e5-a574-474f-d7d8-1b4061816267"
      },
      "source": [
        "print(\"Variables from other cells can be called from other cell like this: \" + example)\n",
        "print(\"Just like shown above you use the \\\"+\\\" to combine\")"
      ],
      "execution_count": null,
      "outputs": [
        {
          "output_type": "stream",
          "name": "stdout",
          "text": [
            "Variables from other cells can be called from other cell like this: This is an example variable string\n",
            "Just like shown above you use the \"+\" to combine\n"
          ]
        }
      ]
    },
    {
      "cell_type": "code",
      "metadata": {
        "id": "yevefnOHHSiH"
      },
      "source": [
        "exampleInt = 0\n",
        "exampleFloat = 0.0\n",
        "exampleString = \"ex\"\n",
        "exampleArray = [\"a\", \"b\", \"c\", \"d\"]"
      ],
      "execution_count": null,
      "outputs": []
    },
    {
      "cell_type": "markdown",
      "metadata": {
        "id": "cyUAC302Hj5P"
      },
      "source": [
        "Loops "
      ]
    },
    {
      "cell_type": "code",
      "metadata": {
        "id": "p0DoVMkEHg33",
        "colab": {
          "base_uri": "https://localhost:8080/"
        },
        "outputId": "5d37eee4-4abb-40d7-f628-e08c7d979c23"
      },
      "source": [
        "for i in range(5):\n",
        "  print(i)\n",
        "print(\"If you want to count from 0-5 you use the range fucntion using a for loop\")\n",
        "print(\"Starts at 0 always\")\n",
        "print(\"The 'i' could be different letter, its just a int that holds the value from the range fucntion\")"
      ],
      "execution_count": null,
      "outputs": [
        {
          "output_type": "stream",
          "name": "stdout",
          "text": [
            "0\n",
            "1\n",
            "2\n",
            "3\n",
            "4\n",
            "If you want to count from 0-5 you use the range fucntion using a for loop\n",
            "Starts at 0 always\n",
            "The 'i' could be different letter, its just a int that holds the value from the range fucntion\n"
          ]
        }
      ]
    },
    {
      "cell_type": "code",
      "metadata": {
        "id": "qlDbR5OmHom6",
        "colab": {
          "base_uri": "https://localhost:8080/"
        },
        "outputId": "393d9609-d1f7-4741-93cd-c5d06652bc41"
      },
      "source": [
        "for i in range(9):\n",
        "  print(i)"
      ],
      "execution_count": null,
      "outputs": [
        {
          "output_type": "stream",
          "name": "stdout",
          "text": [
            "0\n",
            "1\n",
            "2\n",
            "3\n",
            "4\n",
            "5\n",
            "6\n",
            "7\n",
            "8\n"
          ]
        }
      ]
    },
    {
      "cell_type": "markdown",
      "metadata": {
        "id": "RrTFQ79QIAiL"
      },
      "source": [
        "Images"
      ]
    },
    {
      "cell_type": "code",
      "metadata": {
        "id": "27sRT7kTIAOG",
        "colab": {
          "base_uri": "https://localhost:8080/",
          "height": 418
        },
        "outputId": "9b2bcbcf-9709-4191-f8f3-c9ac3fb4da5b"
      },
      "source": [
        "from google.colab import drive\n",
        "drive.mount('/content/drive')"
      ],
      "execution_count": null,
      "outputs": [
        {
          "name": "stdout",
          "output_type": "stream",
          "text": [
            "Go to this URL in a browser: https://accounts.google.com/o/oauth2/auth?client_id=947318989803-6bn6qk8qdgf4n4g3pfee6491hc0brc4i.apps.googleusercontent.com&redirect_uri=urn%3aietf%3awg%3aoauth%3a2.0%3aoob&scope=email%20https%3a%2f%2fwww.googleapis.com%2fauth%2fdocs.test%20https%3a%2f%2fwww.googleapis.com%2fauth%2fdrive%20https%3a%2f%2fwww.googleapis.com%2fauth%2fdrive.photos.readonly%20https%3a%2f%2fwww.googleapis.com%2fauth%2fpeopleapi.readonly%20https%3a%2f%2fwww.googleapis.com%2fauth%2fdrive.activity.readonly%20https%3a%2f%2fwww.googleapis.com%2fauth%2fexperimentsandconfigs%20https%3a%2f%2fwww.googleapis.com%2fauth%2fphotos.native&response_type=code\n",
            "\n",
            "Enter your authorization code:\n",
            "\n"
          ]
        },
        {
          "output_type": "error",
          "ename": "ValueError",
          "evalue": "ignored",
          "traceback": [
            "\u001b[0;31m---------------------------------------------------------------------------\u001b[0m",
            "\u001b[0;31mValueError\u001b[0m                                Traceback (most recent call last)",
            "\u001b[0;32m<ipython-input-3-d5df0069828e>\u001b[0m in \u001b[0;36m<module>\u001b[0;34m()\u001b[0m\n\u001b[1;32m      1\u001b[0m \u001b[0;32mfrom\u001b[0m \u001b[0mgoogle\u001b[0m\u001b[0;34m.\u001b[0m\u001b[0mcolab\u001b[0m \u001b[0;32mimport\u001b[0m \u001b[0mdrive\u001b[0m\u001b[0;34m\u001b[0m\u001b[0;34m\u001b[0m\u001b[0m\n\u001b[0;32m----> 2\u001b[0;31m \u001b[0mdrive\u001b[0m\u001b[0;34m.\u001b[0m\u001b[0mmount\u001b[0m\u001b[0;34m(\u001b[0m\u001b[0;34m'/content/drive'\u001b[0m\u001b[0;34m)\u001b[0m\u001b[0;34m\u001b[0m\u001b[0;34m\u001b[0m\u001b[0m\n\u001b[0m",
            "\u001b[0;32m/usr/local/lib/python3.7/dist-packages/google/colab/drive.py\u001b[0m in \u001b[0;36mmount\u001b[0;34m(mountpoint, force_remount, timeout_ms, use_metadata_server)\u001b[0m\n\u001b[1;32m    111\u001b[0m       \u001b[0mtimeout_ms\u001b[0m\u001b[0;34m=\u001b[0m\u001b[0mtimeout_ms\u001b[0m\u001b[0;34m,\u001b[0m\u001b[0;34m\u001b[0m\u001b[0;34m\u001b[0m\u001b[0m\n\u001b[1;32m    112\u001b[0m       \u001b[0muse_metadata_server\u001b[0m\u001b[0;34m=\u001b[0m\u001b[0muse_metadata_server\u001b[0m\u001b[0;34m,\u001b[0m\u001b[0;34m\u001b[0m\u001b[0;34m\u001b[0m\u001b[0m\n\u001b[0;32m--> 113\u001b[0;31m       ephemeral=ephemeral)\n\u001b[0m\u001b[1;32m    114\u001b[0m \u001b[0;34m\u001b[0m\u001b[0m\n\u001b[1;32m    115\u001b[0m \u001b[0;34m\u001b[0m\u001b[0m\n",
            "\u001b[0;32m/usr/local/lib/python3.7/dist-packages/google/colab/drive.py\u001b[0m in \u001b[0;36m_mount\u001b[0;34m(mountpoint, force_remount, timeout_ms, use_metadata_server, ephemeral)\u001b[0m\n\u001b[1;32m    293\u001b[0m       \u001b[0mwrote_to_fifo\u001b[0m \u001b[0;34m=\u001b[0m \u001b[0;32mTrue\u001b[0m\u001b[0;34m\u001b[0m\u001b[0;34m\u001b[0m\u001b[0m\n\u001b[1;32m    294\u001b[0m     \u001b[0;32melif\u001b[0m \u001b[0mcase\u001b[0m \u001b[0;34m==\u001b[0m \u001b[0;36m5\u001b[0m\u001b[0;34m:\u001b[0m\u001b[0;34m\u001b[0m\u001b[0;34m\u001b[0m\u001b[0m\n\u001b[0;32m--> 295\u001b[0;31m       \u001b[0;32mraise\u001b[0m \u001b[0mValueError\u001b[0m\u001b[0;34m(\u001b[0m\u001b[0;34m'mount failed: invalid oauth code'\u001b[0m\u001b[0;34m)\u001b[0m\u001b[0;34m\u001b[0m\u001b[0;34m\u001b[0m\u001b[0m\n\u001b[0m\u001b[1;32m    296\u001b[0m     \u001b[0;32melif\u001b[0m \u001b[0mcase\u001b[0m \u001b[0;34m==\u001b[0m \u001b[0;36m6\u001b[0m\u001b[0;34m:\u001b[0m\u001b[0;34m\u001b[0m\u001b[0;34m\u001b[0m\u001b[0m\n\u001b[1;32m    297\u001b[0m       \u001b[0;31m# Terminate the DriveFS binary before killing bash.\u001b[0m\u001b[0;34m\u001b[0m\u001b[0;34m\u001b[0m\u001b[0;34m\u001b[0m\u001b[0m\n",
            "\u001b[0;31mValueError\u001b[0m: mount failed: invalid oauth code"
          ]
        }
      ]
    },
    {
      "cell_type": "code",
      "metadata": {
        "id": "y7ZL3vl1Jl48"
      },
      "source": [
        "fileName = '/content/drive/My Drive/afed.jpg'\n",
        "import cv2"
      ],
      "execution_count": null,
      "outputs": []
    },
    {
      "cell_type": "code",
      "metadata": {
        "id": "75D7Ou1JIvpX"
      },
      "source": [
        "img = cv2.imread(fileName)"
      ],
      "execution_count": null,
      "outputs": []
    },
    {
      "cell_type": "code",
      "metadata": {
        "colab": {
          "base_uri": "https://localhost:8080/"
        },
        "id": "M-KN4uQALTEq",
        "outputId": "5dcde154-197d-48b5-f03a-f3fadda08866"
      },
      "source": [
        "print(img)"
      ],
      "execution_count": null,
      "outputs": [
        {
          "output_type": "stream",
          "name": "stdout",
          "text": [
            "[[[198 183 174]\n",
            "  [106  87  82]\n",
            "  [ 62  35  38]\n",
            "  ...\n",
            "  [210 230 241]\n",
            "  [197 207 217]\n",
            "  [199 205 216]]\n",
            "\n",
            " [[ 93  78  69]\n",
            "  [ 18   0   0]\n",
            "  [ 76  49  52]\n",
            "  ...\n",
            "  [201 219 230]\n",
            "  [200 210 220]\n",
            "  [201 207 218]]\n",
            "\n",
            " [[ 41  26  17]\n",
            "  [ 65  46  41]\n",
            "  [ 56  29  32]\n",
            "  ...\n",
            "  [192 208 220]\n",
            "  [202 211 221]\n",
            "  [206 211 220]]\n",
            "\n",
            " ...\n",
            "\n",
            " [[ 40  44  97]\n",
            "  [ 46  50 101]\n",
            "  [ 60  64 115]\n",
            "  ...\n",
            "  [128 141 173]\n",
            "  [115 128 160]\n",
            "  [ 89 102 134]]\n",
            "\n",
            " [[ 41  45  98]\n",
            "  [ 49  53 104]\n",
            "  [ 65  69 120]\n",
            "  ...\n",
            "  [130 143 175]\n",
            "  [118 131 163]\n",
            "  [ 92 105 137]]\n",
            "\n",
            " [[ 45  49 102]\n",
            "  [ 54  58 109]\n",
            "  [ 72  76 127]\n",
            "  ...\n",
            "  [131 144 176]\n",
            "  [118 131 163]\n",
            "  [ 94 107 139]]]\n"
          ]
        }
      ]
    },
    {
      "cell_type": "code",
      "metadata": {
        "id": "YD_MlsE3LTJK",
        "colab": {
          "base_uri": "https://localhost:8080/"
        },
        "outputId": "caa0549c-b0db-4b9c-80c8-307f948bd407"
      },
      "source": [
        "print(\"To calculate the X lenght --> rows\")\n",
        "print(len(img))\n",
        "print(\"To calculate the Y lenght --> columns\")\n",
        "print(len(img[0]))"
      ],
      "execution_count": null,
      "outputs": [
        {
          "output_type": "stream",
          "name": "stdout",
          "text": [
            "To calculate the X lenght --> rows\n",
            "100\n",
            "To calculate the Y lenght --> columns\n",
            "80\n"
          ]
        }
      ]
    },
    {
      "cell_type": "code",
      "metadata": {
        "colab": {
          "base_uri": "https://localhost:8080/"
        },
        "id": "NQfxSQAhLTL7",
        "outputId": "f6d8555f-db5a-49ea-9ef8-5f4db106d5a4"
      },
      "source": [
        "print(\"When we apply a [0] to the object we are getting the first value of the multidimensional array\")\n",
        "print(\"For example [4,5,4] and the first value will be 4\")\n",
        "print(\"For example [[4,5,4],[4,9,1]] and the first value will be [4,5,4]\")\n",
        "print(\"For example [[4,5,4],[4,9,1]] and the first value of the first will be 4\")"
      ],
      "execution_count": null,
      "outputs": [
        {
          "output_type": "stream",
          "name": "stdout",
          "text": [
            "When we apply a [0] to the object we are getting the first value of the multidimensional array\n",
            "For example [4,5,4] and the first value will be 4\n",
            "For example [[4,5,4],[4,9,1]] and the first value will be [4,5,4]\n",
            "For example [[4,5,4],[4,9,1]] and the first value of the first will be 4\n"
          ]
        }
      ]
    },
    {
      "cell_type": "markdown",
      "metadata": {
        "id": "vtxt_4PyG2Rw"
      },
      "source": [
        "# Creating your own image"
      ]
    },
    {
      "cell_type": "code",
      "metadata": {
        "id": "c0mJz2UAHU0A"
      },
      "source": [
        "from IPython.display import display, Javascript\n",
        "from google.colab.output import eval_js\n",
        "from base64 import b64decode\n",
        "\n",
        "def take_photo(filename='photo.jpg', quality=0.8):\n",
        "  js = Javascript('''\n",
        "    async function takePhoto(quality) {\n",
        "      const div = document.createElement('div');\n",
        "      const capture = document.createElement('button');\n",
        "      capture.textContent = 'Capture';\n",
        "      div.appendChild(capture);\n",
        "\n",
        "      const video = document.createElement('video');\n",
        "      video.style.display = 'block';\n",
        "      const stream = await navigator.mediaDevices.getUserMedia({video: true});\n",
        "\n",
        "      document.body.appendChild(div);\n",
        "      div.appendChild(video);\n",
        "      video.srcObject = stream;\n",
        "      await video.play();\n",
        "\n",
        "      // Resize the output to fit the video element.\n",
        "      google.colab.output.setIframeHeight(document.documentElement.scrollHeight, true);\n",
        "\n",
        "      // Wait for Capture to be clicked.\n",
        "      await new Promise((resolve) => capture.onclick = resolve);\n",
        "\n",
        "      const canvas = document.createElement('canvas');\n",
        "      canvas.width = video.videoWidth;\n",
        "      canvas.height = video.videoHeight;\n",
        "      canvas.getContext('2d').drawImage(video, 0, 0);\n",
        "      stream.getVideoTracks()[0].stop();\n",
        "      div.remove();\n",
        "      return canvas.toDataURL('image/jpeg', quality);\n",
        "    }\n",
        "    ''')\n",
        "  display(js)\n",
        "  data = eval_js('takePhoto({})'.format(quality))\n",
        "  binary = b64decode(data.split(',')[1])\n",
        "  with open(filename, 'wb') as f:\n",
        "    f.write(binary)\n",
        "  return filename"
      ],
      "execution_count": null,
      "outputs": []
    },
    {
      "cell_type": "code",
      "metadata": {
        "colab": {
          "base_uri": "https://localhost:8080/",
          "height": 515
        },
        "id": "OmxcBT44HU0C",
        "outputId": "511e671b-88b5-4c68-f648-833f9acf1a27"
      },
      "source": [
        "from IPython.display import Image\n",
        "try:\n",
        "  filename = take_photo()\n",
        "  print('Saved to {}'.format(filename))\n",
        "  \n",
        "  # Show the image which was just taken.\n",
        "  display(Image(filename))\n",
        "except Exception as err:\n",
        "  # Errors will be thrown if the user does not have a webcam or if they do not\n",
        "  # grant the page permission to access it.\n",
        "  print(str(err))"
      ],
      "execution_count": null,
      "outputs": [
        {
          "output_type": "display_data",
          "data": {
            "application/javascript": [
              "\n",
              "    async function takePhoto(quality) {\n",
              "      const div = document.createElement('div');\n",
              "      const capture = document.createElement('button');\n",
              "      capture.textContent = 'Capture';\n",
              "      div.appendChild(capture);\n",
              "\n",
              "      const video = document.createElement('video');\n",
              "      video.style.display = 'block';\n",
              "      const stream = await navigator.mediaDevices.getUserMedia({video: true});\n",
              "\n",
              "      document.body.appendChild(div);\n",
              "      div.appendChild(video);\n",
              "      video.srcObject = stream;\n",
              "      await video.play();\n",
              "\n",
              "      // Resize the output to fit the video element.\n",
              "      google.colab.output.setIframeHeight(document.documentElement.scrollHeight, true);\n",
              "\n",
              "      // Wait for Capture to be clicked.\n",
              "      await new Promise((resolve) => capture.onclick = resolve);\n",
              "\n",
              "      const canvas = document.createElement('canvas');\n",
              "      canvas.width = video.videoWidth;\n",
              "      canvas.height = video.videoHeight;\n",
              "      canvas.getContext('2d').drawImage(video, 0, 0);\n",
              "      stream.getVideoTracks()[0].stop();\n",
              "      div.remove();\n",
              "      return canvas.toDataURL('image/jpeg', quality);\n",
              "    }\n",
              "    "
            ],
            "text/plain": [
              "<IPython.core.display.Javascript object>"
            ]
          },
          "metadata": {}
        },
        {
          "output_type": "stream",
          "name": "stdout",
          "text": [
            "Saved to photo.jpg\n"
          ]
        },
        {
          "output_type": "display_data",
          "data": {
            "image/jpeg": "[encoded data removed]",
            "text/plain": [
              "<IPython.core.display.Image object>"
            ]
          },
          "metadata": {}
        }
      ]
    },
    {
      "cell_type": "code",
      "metadata": {
        "id": "K-Xk3k4GHcIo"
      },
      "source": [
        "newFile = '/content/drive/My Drive/photo.jpg'"
      ],
      "execution_count": null,
      "outputs": []
    },
    {
      "cell_type": "markdown",
      "metadata": {
        "id": "oBTCaasgKuJ1"
      },
      "source": [
        "# Problem Time\n",
        "\n",
        "Find the sum of the R value in the first column\n",
        "\n",
        "Split the problem in mulitple sections"
      ]
    },
    {
      "cell_type": "code",
      "metadata": {
        "id": "rLsEpHFXKtPR"
      },
      "source": [
        ""
      ],
      "execution_count": null,
      "outputs": []
    },
    {
      "cell_type": "markdown",
      "metadata": {
        "id": "eTMLx_8bKfof"
      },
      "source": [
        "# Ideas \n",
        "\n",
        "Ai that auto debugs code or could be alerting for specific ideas\n",
        "Manipulate sound\n",
        "Turn music to different sounds\n",
        "Parking, making it better\n",
        "Able to detect voice much better\n",
        "Take all pop songs and build a deep learning more which can make a song\n",
        "Create a game which simulates red lights and random cars come with random speeds, build software to make least cars slow down\n",
        "Courses recommendations\n",
        "Facial recognition for behavior in classroom and record attendence\n",
        "Signature tracking\n",
        "Make sure that when a song is playing, the Google maps notification doesn't come during a beat drop\n",
        "Make sure that when a song is playing, the Google maps notification doesn't come during an beat drop\n",
        "Debt Tracker - A money lending manager app that will keep track of the people (friends, etc.) who owe you money and those whom you owe money. It will have the names of such people, the pending amount, due dates, etc. It will also alert you of due dates and allow you to make payments via integrated payment options.\n",
        "Anti-Smartphone Addiction - An anti-smartphone addiction app that will have many features aimed to help people avoid getting addicted to their phones. It will show timely notifications, send overuse alerts, show tips and suggestions for reducing the use of phones, etc.\n",
        "Startup Assistance - Startup assistance app to help startups and new entrepreneurs find answers to common questions related to starting a new business, finding clients, getting investment, business tips and everything else. Talk to businessmen as well!\n",
        "Investment - AI-based Investment App that will make your investment decisions automatically based on the market research and analysis and will invest on your behalf. You can choose how much you want it to invest and how frequently you want to receive credits in your account.\n",
        "Music - This can be one of the best app ideas for music lovers. This app will initially look as a normal mp3 player but it will be much more than just that. It will let the others in the user’s contact list know what the person is listening and if they like that song, they will be able to share that song so that both of them can listen at the same time. https://towardsdatascience.com/a-music-taste-analysis-using-spotify-api-and-python-e52d186db5fc\n",
        "Text to Multiple People - When you are sending multiple people the same text but you dont want to make a group chat, you can use this app to select the contacts to send it to, create the message, and hit send!\n",
        "Smart Receipt - This app will give the retailers an option to send the product receipt via email or text. This will reduce the over-consumption of paper and make the organizing of receipts easy for the customer.\n",
        "Workout Coach - Select a muscle to focus on and create a workout. Tap multiple muscles to add to your workout. Set goals, get reminders, and get xp/points for completing your goals!\n",
        "Virtual Interior Design- AR technologies are already developed enough to use them as a basis for great products created for various areas. For example, you can develop an application allowing you to add a photo of your room and then try “furnishing” it with different interior design elements: change wall colors, experiment with light, add and remove curtains, furniture items, etc.\n",
        "Dash Cam App - Nowadays, most phones have 2 cameras, and one of them is often a wide-angle one suitable for a dash cam. Add a large touch screen, a large amount of memory, GPS, etc. to these features, and you get a practically perfect device for a purpose like this. If your app supports cloud storage services, it will allow you to upload your recorded videos to the web to free up space on your smartphone. You can also implement voice control and Google Assistant support into your app to give users the possibility to activate the app by voice command rather than search for the dedicated app icon.\n",
        "A simulation that represents the car window on a rainy day which like shows the lower visibility. An AI that tries out different wipers that gives the best clearence\n",
        "On a rainy day the car on front of car track is shown, track that to drive\n",
        "Ai that mixes 2 songs together\n",
        "CCTV person tracking\n",
        "race detection\n",
        "Chrome extension which reads terms of conditions and summarize "
      ]
    }
  ]
}